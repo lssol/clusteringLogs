{
 "cells": [
  {
   "cell_type": "code",
   "execution_count": 1,
   "metadata": {},
   "outputs": [
    {
     "name": "stdout",
     "output_type": "stream",
     "text": [
      "5996\n"
     ]
    }
   ],
   "source": [
    "from elasticsearch import Elasticsearch\n",
    "from elasticsearch_dsl import Search\n",
    "from elasticsearch_dsl import Q\n",
    "import pandas as pd\n",
    "\n",
    "client = Elasticsearch()\n",
    "s = Search(using=client, index=\"logs_extractor\") \\\n",
    "    .query(Q(\"match\", log_level='WARN') | Q(\"match\", log_level='ERROR')) \\\n",
    "    .source(include=[\"timestamp\", \"message\", \"source\", \"log_level\"])\n",
    "response = s.execute()\n",
    "print(s.count())"
   ]
  },
  {
   "cell_type": "code",
   "execution_count": 2,
   "metadata": {
    "scrolled": true
   },
   "outputs": [
    {
     "data": {
      "text/html": [
       "<div>\n",
       "<style scoped>\n",
       "    .dataframe tbody tr th:only-of-type {\n",
       "        vertical-align: middle;\n",
       "    }\n",
       "\n",
       "    .dataframe tbody tr th {\n",
       "        vertical-align: top;\n",
       "    }\n",
       "\n",
       "    .dataframe thead th {\n",
       "        text-align: right;\n",
       "    }\n",
       "</style>\n",
       "<table border=\"1\" class=\"dataframe\">\n",
       "  <thead>\n",
       "    <tr style=\"text-align: right;\">\n",
       "      <th></th>\n",
       "      <th>message</th>\n",
       "      <th>source</th>\n",
       "      <th>timestamp</th>\n",
       "      <th>log_level</th>\n",
       "    </tr>\n",
       "  </thead>\n",
       "  <tbody>\n",
       "    <tr>\n",
       "      <th>0</th>\n",
       "      <td>The saving of history tracking returned an exc...</td>\n",
       "      <td>/home/seti/Documents/ClusteringLogs/Logs/Impor...</td>\n",
       "      <td>2018-05-14 02:16:39.0966</td>\n",
       "      <td>WARN</td>\n",
       "    </tr>\n",
       "    <tr>\n",
       "      <th>1</th>\n",
       "      <td>Error occurred while building parsed candidate...</td>\n",
       "      <td>/home/seti/Documents/ClusteringLogs/Logs/Impor...</td>\n",
       "      <td>2018-05-12 01:04:24.8138</td>\n",
       "      <td>ERROR</td>\n",
       "    </tr>\n",
       "    <tr>\n",
       "      <th>2</th>\n",
       "      <td>Unhandled exception wile running process (Form...</td>\n",
       "      <td>/home/seti/Documents/ClusteringLogs/Logs/Forma...</td>\n",
       "      <td>2018-05-12 01:02:57.1995</td>\n",
       "      <td>ERROR</td>\n",
       "    </tr>\n",
       "    <tr>\n",
       "      <th>3</th>\n",
       "      <td>Error occurred while building parsed candidate...</td>\n",
       "      <td>/home/seti/Documents/ClusteringLogs/Logs/Impor...</td>\n",
       "      <td>2018-05-12 01:03:02.0592</td>\n",
       "      <td>ERROR</td>\n",
       "    </tr>\n",
       "    <tr>\n",
       "      <th>4</th>\n",
       "      <td>Error occurred while building parsed candidate...</td>\n",
       "      <td>/home/seti/Documents/ClusteringLogs/Logs/Impor...</td>\n",
       "      <td>2018-05-12 01:04:25.4232</td>\n",
       "      <td>ERROR</td>\n",
       "    </tr>\n",
       "  </tbody>\n",
       "</table>\n",
       "</div>"
      ],
      "text/plain": [
       "                                             message  \\\n",
       "0  The saving of history tracking returned an exc...   \n",
       "1  Error occurred while building parsed candidate...   \n",
       "2  Unhandled exception wile running process (Form...   \n",
       "3  Error occurred while building parsed candidate...   \n",
       "4  Error occurred while building parsed candidate...   \n",
       "\n",
       "                                              source  \\\n",
       "0  /home/seti/Documents/ClusteringLogs/Logs/Impor...   \n",
       "1  /home/seti/Documents/ClusteringLogs/Logs/Impor...   \n",
       "2  /home/seti/Documents/ClusteringLogs/Logs/Forma...   \n",
       "3  /home/seti/Documents/ClusteringLogs/Logs/Impor...   \n",
       "4  /home/seti/Documents/ClusteringLogs/Logs/Impor...   \n",
       "\n",
       "                  timestamp log_level  \n",
       "0  2018-05-14 02:16:39.0966      WARN  \n",
       "1  2018-05-12 01:04:24.8138     ERROR  \n",
       "2  2018-05-12 01:02:57.1995     ERROR  \n",
       "3  2018-05-12 01:03:02.0592     ERROR  \n",
       "4  2018-05-12 01:04:25.4232     ERROR  "
      ]
     },
     "execution_count": 2,
     "metadata": {},
     "output_type": "execute_result"
    }
   ],
   "source": [
    "hits = []\n",
    "for hit in s.scan():\n",
    "    hits.append([hit.message, hit.source, hit.timestamp, hit.log_level])\n",
    "data = pd.DataFrame(hits, columns=['message', 'source', 'timestamp', \"log_level\"])\n",
    "data.head(5)"
   ]
  },
  {
   "cell_type": "code",
   "execution_count": 3,
   "metadata": {},
   "outputs": [
    {
     "data": {
      "text/html": [
       "<div>\n",
       "<style scoped>\n",
       "    .dataframe tbody tr th:only-of-type {\n",
       "        vertical-align: middle;\n",
       "    }\n",
       "\n",
       "    .dataframe tbody tr th {\n",
       "        vertical-align: top;\n",
       "    }\n",
       "\n",
       "    .dataframe thead th {\n",
       "        text-align: right;\n",
       "    }\n",
       "</style>\n",
       "<table border=\"1\" class=\"dataframe\">\n",
       "  <thead>\n",
       "    <tr style=\"text-align: right;\">\n",
       "      <th></th>\n",
       "      <th>message</th>\n",
       "      <th>source</th>\n",
       "      <th>timestamp</th>\n",
       "      <th>log_level</th>\n",
       "    </tr>\n",
       "  </thead>\n",
       "  <tbody>\n",
       "    <tr>\n",
       "      <th>0</th>\n",
       "      <td>The saving of history tracking returned an exc...</td>\n",
       "      <td>Importing</td>\n",
       "      <td>2018-05-14 02:16:39.0966</td>\n",
       "      <td>WARN</td>\n",
       "    </tr>\n",
       "    <tr>\n",
       "      <th>1</th>\n",
       "      <td>Error occurred while building parsed candidate...</td>\n",
       "      <td>Importing</td>\n",
       "      <td>2018-05-12 01:04:24.8138</td>\n",
       "      <td>ERROR</td>\n",
       "    </tr>\n",
       "    <tr>\n",
       "      <th>2</th>\n",
       "      <td>Unhandled exception wile running process (Form...</td>\n",
       "      <td>Formatting</td>\n",
       "      <td>2018-05-12 01:02:57.1995</td>\n",
       "      <td>ERROR</td>\n",
       "    </tr>\n",
       "    <tr>\n",
       "      <th>3</th>\n",
       "      <td>Error occurred while building parsed candidate...</td>\n",
       "      <td>Importing</td>\n",
       "      <td>2018-05-12 01:03:02.0592</td>\n",
       "      <td>ERROR</td>\n",
       "    </tr>\n",
       "    <tr>\n",
       "      <th>4</th>\n",
       "      <td>Error occurred while building parsed candidate...</td>\n",
       "      <td>Importing</td>\n",
       "      <td>2018-05-12 01:04:25.4232</td>\n",
       "      <td>ERROR</td>\n",
       "    </tr>\n",
       "  </tbody>\n",
       "</table>\n",
       "</div>"
      ],
      "text/plain": [
       "                                             message      source  \\\n",
       "0  The saving of history tracking returned an exc...   Importing   \n",
       "1  Error occurred while building parsed candidate...   Importing   \n",
       "2  Unhandled exception wile running process (Form...  Formatting   \n",
       "3  Error occurred while building parsed candidate...   Importing   \n",
       "4  Error occurred while building parsed candidate...   Importing   \n",
       "\n",
       "                  timestamp log_level  \n",
       "0  2018-05-14 02:16:39.0966      WARN  \n",
       "1  2018-05-12 01:04:24.8138     ERROR  \n",
       "2  2018-05-12 01:02:57.1995     ERROR  \n",
       "3  2018-05-12 01:03:02.0592     ERROR  \n",
       "4  2018-05-12 01:04:25.4232     ERROR  "
      ]
     },
     "execution_count": 3,
     "metadata": {},
     "output_type": "execute_result"
    }
   ],
   "source": [
    "data['source'].replace(regex=True,inplace=True,to_replace=r'/home/seti/Documents/ClusteringLogs/Logs/',value=r'')\n",
    "data['source'].replace(regex=True,inplace=True,to_replace=r'/.+\\.log',value=r'')\n",
    "data.head(5)"
   ]
  },
  {
   "cell_type": "code",
   "execution_count": 4,
   "metadata": {},
   "outputs": [
    {
     "data": {
      "text/plain": [
       "<matplotlib.axes._subplots.AxesSubplot at 0x7f2f24c811d0>"
      ]
     },
     "execution_count": 4,
     "metadata": {},
     "output_type": "execute_result"
    }
   ],
   "source": [
    "data.groupby('source').count()['message'].plot.pie(figsize=(6, 6))"
   ]
  },
  {
   "cell_type": "code",
   "execution_count": 5,
   "metadata": {},
   "outputs": [
    {
     "data": {
      "text/plain": [
       "<matplotlib.axes._subplots.AxesSubplot at 0x7f2f1a0e9b70>"
      ]
     },
     "execution_count": 5,
     "metadata": {},
     "output_type": "execute_result"
    },
    {
     "data": {
      "image/png": "[encoded data removed]",
      "text/plain": [
       "<Figure size 432x432 with 1 Axes>"
      ]
     },
     "metadata": {},
     "output_type": "display_data"
    }
   ],
   "source": [
    "data.groupby('log_level').count()['message'].plot.pie(figsize=(6,6))"
   ]
  },
  {
   "cell_type": "code",
   "execution_count": 24,
   "metadata": {},
   "outputs": [],
   "source": [
    "from gensim import corpora, models, similarities, matutils\n",
    "from sklearn.cluster import DBSCAN\n",
    "from sklearn import metrics\n",
    "from sklearn.preprocessing import StandardScaler"
   ]
  },
  {
   "cell_type": "code",
   "execution_count": 30,
   "metadata": {},
   "outputs": [],
   "source": [
    "messages = [message.split() for message in data['message']]\n",
    "dictionary = corpora.Dictionary(messages)\n",
    "corpus = [dictionary.doc2bow(message) for message in messages]\n",
    "X = matutils.corpus2csc(corpus)"
   ]
  },
  {
   "cell_type": "code",
   "execution_count": 46,
   "metadata": {},
   "outputs": [
    {
     "data": {
      "text/plain": [
       "<3933x5996 sparse matrix of type '<class 'numpy.float64'>'\n",
       "\twith 181588 stored elements in Compressed Sparse Row format>"
      ]
     },
     "execution_count": 46,
     "metadata": {},
     "output_type": "execute_result"
    }
   ],
   "source": [
    "X = StandardScaler(with_mean=False).fit_transform(X)"
   ]
  },
  {
   "cell_type": "code",
   "execution_count": 57,
   "metadata": {},
   "outputs": [],
   "source": [
    "db = DBSCAN(eps=0.3, min_samples=10).fit(X)"
   ]
  },
  {
   "cell_type": "code",
   "execution_count": 58,
   "metadata": {},
   "outputs": [
    {
     "name": "stdout",
     "output_type": "stream",
     "text": [
      "5\n"
     ]
    }
   ],
   "source": [
    "labels = db.labels_\n",
    "n_clusters_ = len(set(labels)) - (1 if -1 in labels else 0)\n",
    "print(n_clusters_)"
   ]
  },
  {
   "cell_type": "code",
   "execution_count": 59,
   "metadata": {},
   "outputs": [],
   "source": [
    "clusters = [label for label in set(labels) if label != -1]"
   ]
  },
  {
   "cell_type": "code",
   "execution_count": 74,
   "metadata": {},
   "outputs": [
    {
     "data": {
      "text/plain": [
       "['The saving of history tracking returned an exception System.Data.SqlClient.SqlException (0x80131904): Execution Timeout Expired. The timeout period elapsed prior to completion of the operation or the server is not responding. ---> System.ComponentModel.Win32Exception (0x80004005): The wait operation timed out',\n",
       " \"Error occurred while building parsed candidate for document queue #329528 System.Data.Entity.Core.EntityException: The underlying provider failed on Open. ---> System.Data.SqlClient.SqlException: Login failed for user 'O2F-IT\\\\SvcToast'. Reason: Server is in single user mode. Only one administrator can connect at this time.\",\n",
       " \"Error occurred while matching the document #511036 System.Data.Entity.Core.EntityException: The underlying provider failed on Open. ---> System.Data.SqlClient.SqlException: Login failed for user 'O2F-IT\\\\SvcToast'. Reason: Server is in single user mode. Only one administrator can connect at this time.\",\n",
       " \"Error occurred while matching the document #511045 System.Data.Entity.Core.EntityException: The underlying provider failed on Open. ---> System.Data.SqlClient.SqlException: Login failed for user 'O2F-IT\\\\SvcToast'. Reason: Server is in single user mode. Only one administrator can connect at this time.\",\n",
       " \"Error occurred while building parsed candidate for document queue #329471 System.Data.Entity.Core.EntityException: The underlying provider failed on Open. ---> System.Data.SqlClient.SqlException: Login failed for user 'O2F-IT\\\\SvcToast'. Reason: Server is in single user mode. Only one administrator can connect at this time.\",\n",
       " \"Error occurred while building parsed candidate for document queue #329469 System.Data.Entity.Core.EntityException: The underlying provider failed on Open. ---> System.Data.SqlClient.SqlException: Login failed for user 'O2F-IT\\\\SvcToast'. Reason: Server is in single user mode. Only one administrator can connect at this time.\",\n",
       " \"Unhandled exception wile running process (FormattingServiceImplementation - Process) System.Data.Entity.Core.EntityException: The underlying provider failed on Open. ---> System.Data.SqlClient.SqlException: Login failed for user 'O2F-IT\\\\SvcToast'. Reason: Server is in single user mode. Only one administrator can connect at this time.\",\n",
       " \"Error occurred while building parsed candidate for document queue #329486 System.Data.Entity.Core.EntityException: The underlying provider failed on Open. ---> System.Data.SqlClient.SqlException: Login failed for user 'O2F-IT\\\\SvcToast'. Reason: Server is in single user mode. Only one administrator can connect at this time.\",\n",
       " \"Error occurred while building parsed candidate for document queue #329878 System.Data.Entity.Core.EntityException: The underlying provider failed on Open. ---> System.Data.SqlClient.SqlException: Login failed for user 'O2F-IT\\\\SvcToast'. Reason: Server is in single user mode. Only one administrator can connect at this time.\",\n",
       " \"Error occurred while building parsed candidate for document queue #329889 System.Data.Entity.Core.EntityException: The underlying provider failed on Open. ---> System.Data.SqlClient.SqlException: Login failed for user 'O2F-IT\\\\SvcToast'. Reason: Server is in single user mode. Only one administrator can connect at this time.\",\n",
       " \"Error occurred while matching the document #511048 System.Data.Entity.Core.EntityException: The underlying provider failed on Open. ---> System.Data.SqlClient.SqlException: Login failed for user 'O2F-IT\\\\SvcToast'. Reason: Server is in single user mode. Only one administrator can connect at this time.\",\n",
       " \"Error occurred while building parsed candidate for document queue #330199 System.Data.Entity.Core.EntityException: The underlying provider failed on Open. ---> System.Data.SqlClient.SqlException: Login failed for user 'O2F-IT\\\\SvcToast'. Reason: Server is in single user mode. Only one administrator can connect at this time.\",\n",
       " \"Error occurred while matching the document #510970 System.Data.Entity.Core.EntityException: The underlying provider failed on Open. ---> System.Data.SqlClient.SqlException: Login failed for user 'O2F-IT\\\\SvcToast'. Reason: Server is in single user mode. Only one administrator can connect at this time.\",\n",
       " \"Error occurred while building parsed candidate for document queue #329586 System.Data.Entity.Core.EntityException: The underlying provider failed on Open. ---> System.Data.SqlClient.SqlException: Login failed for user 'O2F-IT\\\\SvcToast'. Reason: Server is in single user mode. Only one administrator can connect at this time.\",\n",
       " \"Unhandled exception wile running process (ImportServiceImplementation - Process) System.Data.Entity.Core.EntityException: The underlying provider failed on Open. ---> System.Data.SqlClient.SqlException: Login failed for user 'O2F-IT\\\\SvcToast'. Reason: Server is in single user mode. Only one administrator can connect at this time.\",\n",
       " \"Unhandled exception wile running process (ImportServiceImplementation - Process) System.Data.Entity.Core.EntityException: The underlying provider failed on Open. ---> System.Data.SqlClient.SqlException: Login failed for user 'O2F-IT\\\\SvcToast'. Reason: Server is in single user mode. Only one administrator can connect at this time.\",\n",
       " \"Unhandled exception wile running process (ImportServiceImplementation - Process) System.Data.Entity.Core.EntityException: The underlying provider failed on Open. ---> System.Data.SqlClient.SqlException: Login failed for user 'O2F-IT\\\\SvcToast'. Reason: Server is in single user mode. Only one administrator can connect at this time.\",\n",
       " \"Error occurred while building parsed candidate for document queue #330203 System.Data.Entity.Core.EntityException: The underlying provider failed on Open. ---> System.Data.SqlClient.SqlException: Login failed for user 'O2F-IT\\\\SvcToast'. Reason: Server is in single user mode. Only one administrator can connect at this time.\",\n",
       " \"Unhandled exception wile running process (ImportServiceImplementation - Process) System.Data.Entity.Core.EntityException: The underlying provider failed on Open. ---> System.Data.SqlClient.SqlException: Login failed for user 'O2F-IT\\\\SvcToast'. Reason: Server is in single user mode. Only one administrator can connect at this time.\",\n",
       " \"Error occurred while matching the document #510981 System.Data.Entity.Core.EntityException: The underlying provider failed on Open. ---> System.Data.SqlClient.SqlException: Login failed for user 'O2F-IT\\\\SvcToast'. Reason: Server is in single user mode. Only one administrator can connect at this time.\",\n",
       " \"Error occurred while building parsed candidate for document queue #329795 System.Data.Entity.Core.EntityException: The underlying provider failed on Open. ---> System.Data.SqlClient.SqlException: Login failed for user 'O2F-IT\\\\SvcToast'. Reason: Server is in single user mode. Only one administrator can connect at this time.\",\n",
       " \"Error occurred while building parsed candidate for document queue #329787 System.Data.Entity.Core.EntityException: The underlying provider failed on Open. ---> System.Data.SqlClient.SqlException: Login failed for user 'O2F-IT\\\\SvcToast'. Reason: Server is in single user mode. Only one administrator can connect at this time.\",\n",
       " \"The saving of history tracking returned an exception System.Data.SqlClient.SqlException (0x80131904): Violation of UNIQUE KEY constraint 'UC_asom_ObjectInstance_TableId_pkValue'. Cannot insert duplicate key in object 'asom.ObjectInstance'. The duplicate key value is (7, 299903).\",\n",
       " \"Error occurred while building parsed candidate for document queue #329537 System.Data.Entity.Core.EntityException: The underlying provider failed on Open. ---> System.Data.SqlClient.SqlException: Login failed for user 'O2F-IT\\\\SvcToast'. Reason: Server is in single user mode. Only one administrator can connect at this time.\",\n",
       " \"The saving of history tracking returned an exception System.Data.SqlClient.SqlException (0x80131904): The transaction log for database 'tempdb' is full due to 'ACTIVE_TRANSACTION'.\",\n",
       " \"The saving of history tracking returned an exception System.Data.SqlClient.SqlException (0x80131904): The transaction log for database 'tempdb' is full due to 'ACTIVE_TRANSACTION'.\",\n",
       " \"Error occurred while building parsed candidate for document queue #330205 System.Data.Entity.Core.EntityException: The underlying provider failed on Open. ---> System.Data.SqlClient.SqlException: Login failed for user 'O2F-IT\\\\SvcToast'. Reason: Server is in single user mode. Only one administrator can connect at this time.\",\n",
       " \"The saving of history tracking returned an exception System.Data.SqlClient.SqlException (0x80131904): The transaction log for database 'tempdb' is full due to 'ACTIVE_TRANSACTION'.\",\n",
       " \"The saving of history tracking returned an exception System.Data.SqlClient.SqlException (0x80131904): The transaction log for database 'tempdb' is full due to 'ACTIVE_TRANSACTION'.\",\n",
       " \"The saving of history tracking returned an exception System.Data.SqlClient.SqlException (0x80131904): The transaction log for database 'tempdb' is full due to 'ACTIVE_TRANSACTION'.\",\n",
       " \"The saving of history tracking returned an exception System.Data.SqlClient.SqlException (0x80131904): The transaction log for database 'tempdb' is full due to 'ACTIVE_TRANSACTION'.\",\n",
       " \"Error occurred while building parsed candidate for document queue #331080 System.Data.Entity.Core.EntityException: The underlying provider failed on Open. ---> System.Data.SqlClient.SqlException: Login failed for user 'O2F-IT\\\\SvcToast'. Reason: Server is in single user mode. Only one administrator can connect at this time.\",\n",
       " \"Error occurred while building parsed candidate for document queue #330216 System.Data.Entity.Core.EntityException: The underlying provider failed on Open. ---> System.Data.SqlClient.SqlException: Login failed for user 'O2F-IT\\\\SvcToast'. Reason: Server is in single user mode. Only one administrator can connect at this time.\",\n",
       " \"Error occurred while building parsed candidate for document queue #331086 System.Data.Entity.Core.EntityException: The underlying provider failed on Open. ---> System.Data.SqlClient.SqlException: Login failed for user 'O2F-IT\\\\SvcToast'. Reason: Server is in single user mode. Only one administrator can connect at this time.\",\n",
       " \"Unhandled exception wile running process (ImportServiceImplementation - Process) System.Data.SqlClient.SqlException (0x80131904): The transaction log for database 'tempdb' is full due to 'ACTIVE_TRANSACTION'.\",\n",
       " \"Unhandled exception wile running process (ImportServiceImplementation - Process) System.Data.SqlClient.SqlException (0x80131904): The transaction log for database 'tempdb' is full due to 'ACTIVE_TRANSACTION'.\",\n",
       " \"Error occurred while building parsed candidate for document queue #331053 System.Data.Entity.Core.EntityException: The underlying provider failed on Open. ---> System.Data.SqlClient.SqlException: Login failed for user 'O2F-IT\\\\SvcToast'. Reason: Server is in single user mode. Only one administrator can connect at this time.\",\n",
       " \"Error occurred while building parsed candidate for document queue #330218 System.Data.Entity.Core.EntityException: The underlying provider failed on Open. ---> System.Data.SqlClient.SqlException: Login failed for user 'O2F-IT\\\\SvcToast'. Reason: Server is in single user mode. Only one administrator can connect at this time.\",\n",
       " \"Error occurred while building parsed candidate for document queue #330219 System.Data.Entity.Core.EntityException: The underlying provider failed on Open. ---> System.Data.SqlClient.SqlException: Login failed for user 'O2F-IT\\\\SvcToast'. Reason: Server is in single user mode. Only one administrator can connect at this time.\",\n",
       " \"Error occurred while building parsed candidate for document queue #330222 System.Data.Entity.Core.EntityException: The underlying provider failed on Open. ---> System.Data.SqlClient.SqlException: Login failed for user 'O2F-IT\\\\SvcToast'. Reason: Server is in single user mode. Only one administrator can connect at this time.\",\n",
       " \"Error occurred while building parsed candidate for document queue #330843 System.Data.Entity.Core.EntityException: The underlying provider failed on Open. ---> System.Data.SqlClient.SqlException: Login failed for user 'O2F-IT\\\\SvcToast'. Reason: Server is in single user mode. Only one administrator can connect at this time.\",\n",
       " \"Error occurred while building parsed candidate for document queue #330846 System.Data.Entity.Core.EntityException: The underlying provider failed on Open. ---> System.Data.SqlClient.SqlException: Login failed for user 'O2F-IT\\\\SvcToast'. Reason: Server is in single user mode. Only one administrator can connect at this time.\",\n",
       " \"Unhandled exception wile running process (ImportServiceImplementation - Process) System.Data.SqlClient.SqlException (0x80131904): The transaction log for database 'tempdb' is full due to 'ACTIVE_TRANSACTION'.\",\n",
       " \"Error occurred while building parsed candidate for document queue #331054 System.Data.Entity.Core.EntityException: The underlying provider failed on Open. ---> System.Data.SqlClient.SqlException: Login failed for user 'O2F-IT\\\\SvcToast'. Reason: Server is in single user mode. Only one administrator can connect at this time.\",\n",
       " \"Error occurred while importing parsed candidate for document queue #121496 System.Data.Entity.Core.EntityCommandExecutionException: An error occurred while reading from the store provider's data reader. See the inner exception for details. ---> System.Data.SqlClient.SqlException: The transaction log for database 'tempdb' is full due to 'ACTIVE_TRANSACTION'.\",\n",
       " \"Error occurred while building parsed candidate for document queue #331055 System.Data.Entity.Core.EntityException: The underlying provider failed on Open. ---> System.Data.SqlClient.SqlException: Login failed for user 'O2F-IT\\\\SvcToast'. Reason: Server is in single user mode. Only one administrator can connect at this time.\",\n",
       " \"Error occurred while building parsed candidate for document queue #331056 System.Data.Entity.Core.EntityException: The underlying provider failed on Open. ---> System.Data.SqlClient.SqlException: Login failed for user 'O2F-IT\\\\SvcToast'. Reason: Server is in single user mode. Only one administrator can connect at this time.\",\n",
       " \"The saving of history tracking returned an exception System.Data.SqlClient.SqlException (0x80131904): The transaction log for database 'tempdb' is full due to 'ACTIVE_TRANSACTION'.\",\n",
       " \"Error occurred while building parsed candidate for document queue #329905 System.Data.Entity.Core.EntityException: The underlying provider failed on Open. ---> System.Data.SqlClient.SqlException: Login failed for user 'O2F-IT\\\\SvcToast'. Reason: Server is in single user mode. Only one administrator can connect at this time.\",\n",
       " \"Unhandled exception wile running process (FormattingServiceImplementation - Process) System.Data.Entity.Core.EntityException: The underlying provider failed on Open. ---> System.Data.SqlClient.SqlException: Login failed for user 'O2F-IT\\\\SvcToast'. Reason: Server is in single user mode. Only one administrator can connect at this time.\",\n",
       " \"Unhandled exception wile running process (FormattingServiceImplementation - Process) System.Data.Entity.Core.EntityException: The underlying provider failed on Open. ---> System.Data.SqlClient.SqlException: Login failed for user 'O2F-IT\\\\SvcToast'. Reason: Server is in single user mode. Only one administrator can connect at this time.\",\n",
       " \"Unhandled exception wile running process (FormattingServiceImplementation - Process) System.Data.Entity.Core.EntityException: The underlying provider failed on Open. ---> System.Data.SqlClient.SqlException: Login failed for user 'O2F-IT\\\\SvcToast'. Reason: Server is in single user mode. Only one administrator can connect at this time.\",\n",
       " \"Unhandled exception wile running process (FormattingServiceImplementation - Process) System.Data.Entity.Core.EntityException: The underlying provider failed on Open. ---> System.Data.SqlClient.SqlException: Login failed for user 'O2F-IT\\\\SvcToast'. Reason: Server is in single user mode. Only one administrator can connect at this time.\",\n",
       " \"Unhandled exception wile running process (FormattingServiceImplementation - Process) System.Data.Entity.Core.EntityException: The underlying provider failed on Open. ---> System.Data.SqlClient.SqlException: Login failed for user 'O2F-IT\\\\SvcToast'. Reason: Server is in single user mode. Only one administrator can connect at this time.\",\n",
       " \"Unhandled exception wile running process (FormattingServiceImplementation - Process) System.Data.Entity.Core.EntityException: The underlying provider failed on Open. ---> System.Data.SqlClient.SqlException: Login failed for user 'O2F-IT\\\\SvcToast'. Reason: Server is in single user mode. Only one administrator can connect at this time.\",\n",
       " \"Error occurred while matching the document #147986 System.Data.SqlClient.SqlException (0x80131904): The transaction log for database 'tempdb' is full due to 'ACTIVE_TRANSACTION'.\",\n",
       " \"Unhandled exception wile running process (ImportServiceImplementation - Process) System.Data.SqlClient.SqlException (0x80131904): The transaction log for database 'tempdb' is full due to 'ACTIVE_TRANSACTION'.\",\n",
       " \"Error occurred while building parsed candidate for document queue #329914 System.Data.Entity.Core.EntityException: The underlying provider failed on Open. ---> System.Data.SqlClient.SqlException: Login failed for user 'O2F-IT\\\\SvcToast'. Reason: Server is in single user mode. Only one administrator can connect at this time.\",\n",
       " \"Error occurred while building parsed candidate for document queue #329909 System.Data.Entity.Core.EntityException: The underlying provider failed on Open. ---> System.Data.SqlClient.SqlException: Login failed for user 'O2F-IT\\\\SvcToast'. Reason: Server is in single user mode. Only one administrator can connect at this time.\",\n",
       " \"Unhandled exception wile running process (FormattingServiceImplementation - Process) System.Data.Entity.Core.EntityException: The underlying provider failed on Open. ---> System.Data.SqlClient.SqlException: Login failed for user 'O2F-IT\\\\SvcToast'. Reason: Server is in single user mode. Only one administrator can connect at this time.\",\n",
       " \"Unhandled exception wile running process (ImportServiceImplementation - Process) System.Data.Entity.Core.EntityException: The underlying provider failed on Open. ---> System.Data.SqlClient.SqlException: Login failed for user 'O2F-IT\\\\SvcToast'. Reason: Server is in single user mode. Only one administrator can connect at this time.\",\n",
       " 'The saving of history tracking returned an exception System.Data.SqlClient.SqlException (0x80131904): Execution Timeout Expired. The timeout period elapsed prior to completion of the operation or the server is not responding. ---> System.ComponentModel.Win32Exception (0x80004005): The wait operation timed out',\n",
       " \"Error occurred while matching the document #511039 System.Data.Entity.Core.EntityException: The underlying provider failed on Open. ---> System.Data.SqlClient.SqlException: Login failed for user 'O2F-IT\\\\SvcToast'. Reason: Server is in single user mode. Only one administrator can connect at this time.\"]"
      ]
     },
     "execution_count": 74,
     "metadata": {},
     "output_type": "execute_result"
    }
   ],
   "source": [
    "cl = [\" \".join(messages[i]) for i in db.core_sample_indices_]\n",
    "cl"
   ]
  },
  {
   "cell_type": "code",
   "execution_count": 63,
   "metadata": {},
   "outputs": [
    {
     "ename": "TypeError",
     "evalue": "only integer scalar arrays can be converted to a scalar index",
     "output_type": "error",
     "traceback": [
      "\u001b[0;31m---------------------------------------------------------------------------\u001b[0m",
      "\u001b[0;31mTypeError\u001b[0m                                 Traceback (most recent call last)",
      "\u001b[0;32m<ipython-input-63-e43937a7d057>\u001b[0m in \u001b[0;36m<module>\u001b[0;34m()\u001b[0m\n\u001b[0;32m----> 1\u001b[0;31m \u001b[0mcluster1\u001b[0m \u001b[0;34m=\u001b[0m \u001b[0mcorpus\u001b[0m\u001b[0;34m[\u001b[0m\u001b[0mi\u001b[0m\u001b[0;34m]\u001b[0m\u001b[0;34m\u001b[0m\u001b[0m\n\u001b[0m",
      "\u001b[0;31mTypeError\u001b[0m: only integer scalar arrays can be converted to a scalar index"
     ]
    }
   ],
   "source": [
    "cluster1 = corpus[i]"
   ]
  },
  {
   "cell_type": "code",
   "execution_count": null,
   "metadata": {},
   "outputs": [],
   "source": []
  }
 ],
 "metadata": {
  "kernelspec": {
   "display_name": "Python [default]",
   "language": "python",
   "name": "python3"
  },
  "language_info": {
   "codemirror_mode": {
    "name": "ipython",
    "version": 3
   },
   "file_extension": ".py",
   "mimetype": "text/x-python",
   "name": "python",
   "nbconvert_exporter": "python",
   "pygments_lexer": "ipython3",
   "version": "3.6.5"
  }
 },
 "nbformat": 4,
 "nbformat_minor": 2
}
