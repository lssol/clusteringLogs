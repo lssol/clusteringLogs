{
 "cells": [
  {
   "cell_type": "code",
   "execution_count": 1,
   "metadata": {},
   "outputs": [
    {
     "name": "stdout",
     "output_type": "stream",
     "text": [
      "5996\n"
     ]
    }
   ],
   "source": [
    "from elasticsearch import Elasticsearch\n",
    "from elasticsearch_dsl import Search\n",
    "from elasticsearch_dsl import Q\n",
    "import pandas as pd\n",
    "\n",
    "client = Elasticsearch()\n",
    "s = Search(using=client, index=\"logs_extractor\") \\\n",
    "    .query(Q(\"match\", log_level='WARN') | Q(\"match\", log_level='ERROR')) \\\n",
    "    .source(include=[\"timestamp\", \"message\", \"source\", \"log_level\"])\n",
    "response = s.execute()\n",
    "print(s.count())"
   ]
  },
  {
   "cell_type": "code",
   "execution_count": 3,
   "metadata": {},
   "outputs": [
    {
     "data": {
      "text/html": [
       "<div>\n",
       "<style scoped>\n",
       "    .dataframe tbody tr th:only-of-type {\n",
       "        vertical-align: middle;\n",
       "    }\n",
       "\n",
       "    .dataframe tbody tr th {\n",
       "        vertical-align: top;\n",
       "    }\n",
       "\n",
       "    .dataframe thead th {\n",
       "        text-align: right;\n",
       "    }\n",
       "</style>\n",
       "<table border=\"1\" class=\"dataframe\">\n",
       "  <thead>\n",
       "    <tr style=\"text-align: right;\">\n",
       "      <th></th>\n",
       "      <th>message</th>\n",
       "      <th>source</th>\n",
       "      <th>timestamp</th>\n",
       "      <th>log_level</th>\n",
       "    </tr>\n",
       "  </thead>\n",
       "  <tbody>\n",
       "    <tr>\n",
       "      <th>0</th>\n",
       "      <td>The saving of history tracking returned an exc...</td>\n",
       "      <td>/home/seti/Documents/ClusteringLogs/Logs/Impor...</td>\n",
       "      <td>2018-05-14 02:16:39.0966</td>\n",
       "      <td>WARN</td>\n",
       "    </tr>\n",
       "    <tr>\n",
       "      <th>1</th>\n",
       "      <td>Error occurred while building parsed candidate...</td>\n",
       "      <td>/home/seti/Documents/ClusteringLogs/Logs/Impor...</td>\n",
       "      <td>2018-05-12 01:04:24.8138</td>\n",
       "      <td>ERROR</td>\n",
       "    </tr>\n",
       "    <tr>\n",
       "      <th>2</th>\n",
       "      <td>Unhandled exception wile running process (Form...</td>\n",
       "      <td>/home/seti/Documents/ClusteringLogs/Logs/Forma...</td>\n",
       "      <td>2018-05-12 01:02:57.1995</td>\n",
       "      <td>ERROR</td>\n",
       "    </tr>\n",
       "    <tr>\n",
       "      <th>3</th>\n",
       "      <td>Error occurred while building parsed candidate...</td>\n",
       "      <td>/home/seti/Documents/ClusteringLogs/Logs/Impor...</td>\n",
       "      <td>2018-05-12 01:03:02.0592</td>\n",
       "      <td>ERROR</td>\n",
       "    </tr>\n",
       "    <tr>\n",
       "      <th>4</th>\n",
       "      <td>Error occurred while building parsed candidate...</td>\n",
       "      <td>/home/seti/Documents/ClusteringLogs/Logs/Impor...</td>\n",
       "      <td>2018-05-12 01:04:25.4232</td>\n",
       "      <td>ERROR</td>\n",
       "    </tr>\n",
       "  </tbody>\n",
       "</table>\n",
       "</div>"
      ],
      "text/plain": [
       "                                             message  \\\n",
       "0  The saving of history tracking returned an exc...   \n",
       "1  Error occurred while building parsed candidate...   \n",
       "2  Unhandled exception wile running process (Form...   \n",
       "3  Error occurred while building parsed candidate...   \n",
       "4  Error occurred while building parsed candidate...   \n",
       "\n",
       "                                              source  \\\n",
       "0  /home/seti/Documents/ClusteringLogs/Logs/Impor...   \n",
       "1  /home/seti/Documents/ClusteringLogs/Logs/Impor...   \n",
       "2  /home/seti/Documents/ClusteringLogs/Logs/Forma...   \n",
       "3  /home/seti/Documents/ClusteringLogs/Logs/Impor...   \n",
       "4  /home/seti/Documents/ClusteringLogs/Logs/Impor...   \n",
       "\n",
       "                  timestamp log_level  \n",
       "0  2018-05-14 02:16:39.0966      WARN  \n",
       "1  2018-05-12 01:04:24.8138     ERROR  \n",
       "2  2018-05-12 01:02:57.1995     ERROR  \n",
       "3  2018-05-12 01:03:02.0592     ERROR  \n",
       "4  2018-05-12 01:04:25.4232     ERROR  "
      ]
     },
     "execution_count": 3,
     "metadata": {},
     "output_type": "execute_result"
    }
   ],
   "source": [
    "hits = []\n",
    "for hit in s.scan():\n",
    "    hits.append([hit.message, hit.source, hit.timestamp, hit.log_level])\n",
    "data = pd.DataFrame(hits, columns=['message', 'source', 'timestamp', \"log_level\"])\n",
    "data.head(5)"
   ]
  },
  {
   "cell_type": "code",
   "execution_count": 4,
   "metadata": {},
   "outputs": [
    {
     "data": {
      "text/html": [
       "<div>\n",
       "<style scoped>\n",
       "    .dataframe tbody tr th:only-of-type {\n",
       "        vertical-align: middle;\n",
       "    }\n",
       "\n",
       "    .dataframe tbody tr th {\n",
       "        vertical-align: top;\n",
       "    }\n",
       "\n",
       "    .dataframe thead th {\n",
       "        text-align: right;\n",
       "    }\n",
       "</style>\n",
       "<table border=\"1\" class=\"dataframe\">\n",
       "  <thead>\n",
       "    <tr style=\"text-align: right;\">\n",
       "      <th></th>\n",
       "      <th>message</th>\n",
       "      <th>source</th>\n",
       "      <th>timestamp</th>\n",
       "      <th>log_level</th>\n",
       "    </tr>\n",
       "  </thead>\n",
       "  <tbody>\n",
       "    <tr>\n",
       "      <th>0</th>\n",
       "      <td>The saving of history tracking returned an exc...</td>\n",
       "      <td>Importing</td>\n",
       "      <td>2018-05-14 02:16:39.0966</td>\n",
       "      <td>WARN</td>\n",
       "    </tr>\n",
       "    <tr>\n",
       "      <th>1</th>\n",
       "      <td>Error occurred while building parsed candidate...</td>\n",
       "      <td>Importing</td>\n",
       "      <td>2018-05-12 01:04:24.8138</td>\n",
       "      <td>ERROR</td>\n",
       "    </tr>\n",
       "    <tr>\n",
       "      <th>2</th>\n",
       "      <td>Unhandled exception wile running process (Form...</td>\n",
       "      <td>Formatting</td>\n",
       "      <td>2018-05-12 01:02:57.1995</td>\n",
       "      <td>ERROR</td>\n",
       "    </tr>\n",
       "    <tr>\n",
       "      <th>3</th>\n",
       "      <td>Error occurred while building parsed candidate...</td>\n",
       "      <td>Importing</td>\n",
       "      <td>2018-05-12 01:03:02.0592</td>\n",
       "      <td>ERROR</td>\n",
       "    </tr>\n",
       "    <tr>\n",
       "      <th>4</th>\n",
       "      <td>Error occurred while building parsed candidate...</td>\n",
       "      <td>Importing</td>\n",
       "      <td>2018-05-12 01:04:25.4232</td>\n",
       "      <td>ERROR</td>\n",
       "    </tr>\n",
       "  </tbody>\n",
       "</table>\n",
       "</div>"
      ],
      "text/plain": [
       "                                             message      source  \\\n",
       "0  The saving of history tracking returned an exc...   Importing   \n",
       "1  Error occurred while building parsed candidate...   Importing   \n",
       "2  Unhandled exception wile running process (Form...  Formatting   \n",
       "3  Error occurred while building parsed candidate...   Importing   \n",
       "4  Error occurred while building parsed candidate...   Importing   \n",
       "\n",
       "                  timestamp log_level  \n",
       "0  2018-05-14 02:16:39.0966      WARN  \n",
       "1  2018-05-12 01:04:24.8138     ERROR  \n",
       "2  2018-05-12 01:02:57.1995     ERROR  \n",
       "3  2018-05-12 01:03:02.0592     ERROR  \n",
       "4  2018-05-12 01:04:25.4232     ERROR  "
      ]
     },
     "execution_count": 4,
     "metadata": {},
     "output_type": "execute_result"
    }
   ],
   "source": [
    "data['source'].replace(regex=True,inplace=True,to_replace=r'/home/seti/Documents/ClusteringLogs/Logs/',value=r'')\n",
    "data['source'].replace(regex=True,inplace=True,to_replace=r'/.+\\.log',value=r'')\n",
    "data.head(5)"
   ]
  },
  {
   "cell_type": "code",
   "execution_count": 6,
   "metadata": {},
   "outputs": [
    {
     "data": {
      "text/plain": [
       "<matplotlib.axes._subplots.AxesSubplot at 0x7f7320466208>"
      ]
     },
     "execution_count": 6,
     "metadata": {},
     "output_type": "execute_result"
    },
    {
     "data": {
      "image/png": "[encoded data removed]",
      "text/plain": [
       "<Figure size 432x432 with 1 Axes>"
      ]
     },
     "metadata": {},
     "output_type": "display_data"
    }
   ],
   "source": [
    "data.groupby('source').count()['message'].plot.pie(figsize=(6, 6))"
   ]
  },
  {
   "cell_type": "code",
   "execution_count": 7,
   "metadata": {},
   "outputs": [
    {
     "data": {
      "text/plain": [
       "<matplotlib.axes._subplots.AxesSubplot at 0x7f732042d5f8>"
      ]
     },
     "execution_count": 7,
     "metadata": {},
     "output_type": "execute_result"
    },
    {
     "data": {
      "image/png": "[encoded data removed]",
      "text/plain": [
       "<Figure size 432x432 with 1 Axes>"
      ]
     },
     "metadata": {},
     "output_type": "display_data"
    }
   ],
   "source": [
    "data.groupby('log_level').count()['message'].plot.pie(figsize=(6,6))"
   ]
  },
  {
   "cell_type": "code",
   "execution_count": null,
   "metadata": {},
   "outputs": [],
   "source": []
  }
 ],
 "metadata": {
  "kernelspec": {
   "display_name": "Python [default]",
   "language": "python",
   "name": "python3"
  },
  "language_info": {
   "codemirror_mode": {
    "name": "ipython",
    "version": 3
   },
   "file_extension": ".py",
   "mimetype": "text/x-python",
   "name": "python",
   "nbconvert_exporter": "python",
   "pygments_lexer": "ipython3",
   "version": "3.6.5"
  }
 },
 "nbformat": 4,
 "nbformat_minor": 2
}
